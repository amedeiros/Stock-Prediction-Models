{
 "cells": [
  {
   "cell_type": "code",
   "execution_count": 1,
   "metadata": {},
   "outputs": [],
   "source": [
    "import numpy as np\n",
    "import pandas as pd\n",
    "import matplotlib.pyplot as plt\n",
    "import seaborn as sns\n",
    "sns.set()\n",
    "from alpha_vantage.timeseries import TimeSeries\n",
    "import os"
   ]
  },
  {
   "cell_type": "code",
   "execution_count": 2,
   "metadata": {},
   "outputs": [],
   "source": [
    "TIME_SERIES = TimeSeries(key=os.environ.get(\"ALPHA_VANTAGE_KEY\"), output_format=\"pandas\", indexing_type=\"data\")\n",
    "COLUMN_RENAME_DAILY = {\"date\": \"Date\", \"1. open\": \"Open\", \"2. high\": \"High\", \"3. low\": \"Low\", \"4. close\": \"Close\", \"5. adjusted close\": \"Adj Close\", \"6. volume\": \"Volume\"}"
   ]
  },
  {
   "cell_type": "code",
   "execution_count": 3,
   "metadata": {},
   "outputs": [
    {
     "data": {
      "text/plain": [
       "'CEI'"
      ]
     },
     "execution_count": 3,
     "metadata": {},
     "output_type": "execute_result"
    }
   ],
   "source": [
    "TICKER = \"CEI\"\n",
    "TICKER"
   ]
  },
  {
   "cell_type": "code",
   "execution_count": 4,
   "metadata": {},
   "outputs": [
    {
     "data": {
      "text/html": [
       "<div>\n",
       "<style scoped>\n",
       "    .dataframe tbody tr th:only-of-type {\n",
       "        vertical-align: middle;\n",
       "    }\n",
       "\n",
       "    .dataframe tbody tr th {\n",
       "        vertical-align: top;\n",
       "    }\n",
       "\n",
       "    .dataframe thead th {\n",
       "        text-align: right;\n",
       "    }\n",
       "</style>\n",
       "<table border=\"1\" class=\"dataframe\">\n",
       "  <thead>\n",
       "    <tr style=\"text-align: right;\">\n",
       "      <th></th>\n",
       "      <th>Date</th>\n",
       "      <th>Open</th>\n",
       "      <th>High</th>\n",
       "      <th>Low</th>\n",
       "      <th>Close</th>\n",
       "      <th>Adj Close</th>\n",
       "      <th>Volume</th>\n",
       "    </tr>\n",
       "  </thead>\n",
       "  <tbody>\n",
       "    <tr>\n",
       "      <th>0</th>\n",
       "      <td>2021-10-04</td>\n",
       "      <td>3.31</td>\n",
       "      <td>3.65</td>\n",
       "      <td>3.05</td>\n",
       "      <td>3.09</td>\n",
       "      <td>3.09</td>\n",
       "      <td>212600954.0</td>\n",
       "    </tr>\n",
       "    <tr>\n",
       "      <th>1</th>\n",
       "      <td>2021-10-01</td>\n",
       "      <td>3.49</td>\n",
       "      <td>3.54</td>\n",
       "      <td>2.86</td>\n",
       "      <td>3.25</td>\n",
       "      <td>3.25</td>\n",
       "      <td>323930920.0</td>\n",
       "    </tr>\n",
       "    <tr>\n",
       "      <th>2</th>\n",
       "      <td>2021-09-30</td>\n",
       "      <td>4.13</td>\n",
       "      <td>4.37</td>\n",
       "      <td>3.44</td>\n",
       "      <td>3.82</td>\n",
       "      <td>3.82</td>\n",
       "      <td>460059396.0</td>\n",
       "    </tr>\n",
       "    <tr>\n",
       "      <th>3</th>\n",
       "      <td>2021-09-29</td>\n",
       "      <td>3.06</td>\n",
       "      <td>4.85</td>\n",
       "      <td>2.89</td>\n",
       "      <td>3.42</td>\n",
       "      <td>3.42</td>\n",
       "      <td>988353227.0</td>\n",
       "    </tr>\n",
       "    <tr>\n",
       "      <th>4</th>\n",
       "      <td>2021-09-28</td>\n",
       "      <td>2.88</td>\n",
       "      <td>3.44</td>\n",
       "      <td>2.62</td>\n",
       "      <td>3.22</td>\n",
       "      <td>3.22</td>\n",
       "      <td>761080418.0</td>\n",
       "    </tr>\n",
       "  </tbody>\n",
       "</table>\n",
       "</div>"
      ],
      "text/plain": [
       "        Date  Open  High   Low  Close  Adj Close       Volume\n",
       "0 2021-10-04  3.31  3.65  3.05   3.09       3.09  212600954.0\n",
       "1 2021-10-01  3.49  3.54  2.86   3.25       3.25  323930920.0\n",
       "2 2021-09-30  4.13  4.37  3.44   3.82       3.82  460059396.0\n",
       "3 2021-09-29  3.06  4.85  2.89   3.42       3.42  988353227.0\n",
       "4 2021-09-28  2.88  3.44  2.62   3.22       3.22  761080418.0"
      ]
     },
     "execution_count": 4,
     "metadata": {},
     "output_type": "execute_result"
    }
   ],
   "source": [
    "dailyAdjustedRaw = TIME_SERIES.get_daily_adjusted(symbol=TICKER, outputsize=\"full\")[0]\n",
    "df = dailyAdjustedRaw.sort_values(by=\"date\", ascending=False).reset_index().rename(columns=COLUMN_RENAME_DAILY).drop([\"7. dividend amount\", \"8. split coefficient\"], axis=1, inplace=False)\n",
    "df.head()"
   ]
  },
  {
   "cell_type": "code",
   "execution_count": 5,
   "metadata": {},
   "outputs": [
    {
     "data": {
      "text/html": [
       "<div>\n",
       "<style scoped>\n",
       "    .dataframe tbody tr th:only-of-type {\n",
       "        vertical-align: middle;\n",
       "    }\n",
       "\n",
       "    .dataframe tbody tr th {\n",
       "        vertical-align: top;\n",
       "    }\n",
       "\n",
       "    .dataframe thead th {\n",
       "        text-align: right;\n",
       "    }\n",
       "</style>\n",
       "<table border=\"1\" class=\"dataframe\">\n",
       "  <thead>\n",
       "    <tr style=\"text-align: right;\">\n",
       "      <th></th>\n",
       "      <th>Date</th>\n",
       "      <th>Open</th>\n",
       "      <th>High</th>\n",
       "      <th>Low</th>\n",
       "      <th>Close</th>\n",
       "      <th>Adj Close</th>\n",
       "      <th>Volume</th>\n",
       "    </tr>\n",
       "  </thead>\n",
       "  <tbody>\n",
       "    <tr>\n",
       "      <th>0</th>\n",
       "      <td>2021-04-15</td>\n",
       "      <td>0.8200</td>\n",
       "      <td>0.8299</td>\n",
       "      <td>0.7320</td>\n",
       "      <td>0.7458</td>\n",
       "      <td>0.7458</td>\n",
       "      <td>2397151.0</td>\n",
       "    </tr>\n",
       "    <tr>\n",
       "      <th>1</th>\n",
       "      <td>2021-04-16</td>\n",
       "      <td>0.7400</td>\n",
       "      <td>0.7455</td>\n",
       "      <td>0.6754</td>\n",
       "      <td>0.7156</td>\n",
       "      <td>0.7156</td>\n",
       "      <td>2500707.0</td>\n",
       "    </tr>\n",
       "    <tr>\n",
       "      <th>2</th>\n",
       "      <td>2021-04-19</td>\n",
       "      <td>0.7200</td>\n",
       "      <td>0.7280</td>\n",
       "      <td>0.6675</td>\n",
       "      <td>0.6972</td>\n",
       "      <td>0.6972</td>\n",
       "      <td>1567921.0</td>\n",
       "    </tr>\n",
       "    <tr>\n",
       "      <th>3</th>\n",
       "      <td>2021-04-20</td>\n",
       "      <td>0.6827</td>\n",
       "      <td>0.6961</td>\n",
       "      <td>0.6524</td>\n",
       "      <td>0.6801</td>\n",
       "      <td>0.6801</td>\n",
       "      <td>1163124.0</td>\n",
       "    </tr>\n",
       "    <tr>\n",
       "      <th>4</th>\n",
       "      <td>2021-04-21</td>\n",
       "      <td>0.6930</td>\n",
       "      <td>0.7390</td>\n",
       "      <td>0.6702</td>\n",
       "      <td>0.7366</td>\n",
       "      <td>0.7366</td>\n",
       "      <td>2765518.0</td>\n",
       "    </tr>\n",
       "  </tbody>\n",
       "</table>\n",
       "</div>"
      ],
      "text/plain": [
       "        Date    Open    High     Low   Close  Adj Close     Volume\n",
       "0 2021-04-15  0.8200  0.8299  0.7320  0.7458     0.7458  2397151.0\n",
       "1 2021-04-16  0.7400  0.7455  0.6754  0.7156     0.7156  2500707.0\n",
       "2 2021-04-19  0.7200  0.7280  0.6675  0.6972     0.6972  1567921.0\n",
       "3 2021-04-20  0.6827  0.6961  0.6524  0.6801     0.6801  1163124.0\n",
       "4 2021-04-21  0.6930  0.7390  0.6702  0.7366     0.7366  2765518.0"
      ]
     },
     "execution_count": 5,
     "metadata": {},
     "output_type": "execute_result"
    }
   ],
   "source": [
    "df = df.head(120).sort_values(by=\"Date\", ascending=True).reset_index().drop([\"index\"], axis=1, inplace=False)\n",
    "df.head()"
   ]
  },
  {
   "cell_type": "code",
   "execution_count": 6,
   "metadata": {},
   "outputs": [],
   "source": [
    "# df = pd.read_csv('../dataset/GOOG-year.csv')\n",
    "# df.head()"
   ]
  },
  {
   "cell_type": "code",
   "execution_count": 7,
   "metadata": {},
   "outputs": [],
   "source": [
    "def buy_stock(\n",
    "    real_movement,\n",
    "    df,\n",
    "    delay = 5,\n",
    "    initial_state = 1,\n",
    "    initial_money = 10000,\n",
    "    max_buy = 1,\n",
    "    max_sell = 1,\n",
    "):\n",
    "    \"\"\"\n",
    "    real_movement = actual movement in the real world\n",
    "    delay = how much interval you want to delay to change our decision from buy to sell, vice versa\n",
    "    initial_state = 1 is buy, 0 is sell\n",
    "    initial_money = 1000, ignore what kind of currency\n",
    "    max_buy = max quantity for share to buy\n",
    "    max_sell = max quantity for share to sell\n",
    "    \"\"\"\n",
    "    starting_money = initial_money\n",
    "    delay_change_decision = delay\n",
    "    current_decision = 0\n",
    "    state = initial_state\n",
    "    current_val = real_movement[0]\n",
    "    states_sell = []\n",
    "    states_buy = []\n",
    "    current_inventory = 0\n",
    "\n",
    "    def buy(i, initial_money, current_inventory):\n",
    "        shares = initial_money // real_movement[i]\n",
    "        if shares < 1:\n",
    "            print(\n",
    "                'Date: %s day %d: total balances %f, not enough money to buy a unit price %f'\n",
    "                % (df.Date[i], i, initial_money, real_movement[i])\n",
    "            )\n",
    "        else:\n",
    "            if shares > max_buy:\n",
    "                buy_units = max_buy\n",
    "            else:\n",
    "                buy_units = shares\n",
    "            initial_money -= buy_units * real_movement[i]\n",
    "            current_inventory += buy_units\n",
    "            print(\n",
    "                'Date: %s day %d: buy %d units at price %f, total balance %f'\n",
    "                % (df.Date[i], i, buy_units, buy_units * real_movement[i], initial_money)\n",
    "            )\n",
    "            states_buy.append(0)\n",
    "        return initial_money, current_inventory\n",
    "\n",
    "    if state == 1:\n",
    "        initial_money, current_inventory = buy(\n",
    "            0, initial_money, current_inventory\n",
    "        )\n",
    "\n",
    "    for i in range(1, real_movement.shape[0], 1):\n",
    "        if real_movement[i] < current_val and state == 0:\n",
    "            if current_decision < delay_change_decision:\n",
    "                current_decision += 1\n",
    "            else:\n",
    "                state = 1\n",
    "                initial_money, current_inventory = buy(\n",
    "                    i, initial_money, current_inventory\n",
    "                )\n",
    "                current_decision = 0\n",
    "                states_buy.append(i)\n",
    "        if real_movement[i] > current_val and state == 1:\n",
    "            if current_decision < delay_change_decision:\n",
    "                current_decision += 1\n",
    "            else:\n",
    "                state = 0\n",
    "\n",
    "                if current_inventory == 0:\n",
    "                    print('Date: %s day %d: cannot sell anything, inventory 0' % (df.Date[i], i))\n",
    "                else:\n",
    "                    if current_inventory > max_sell:\n",
    "                        sell_units = max_sell\n",
    "                    else:\n",
    "                        sell_units = current_inventory\n",
    "                    current_inventory -= sell_units\n",
    "                    total_sell = sell_units * real_movement[i]\n",
    "                    initial_money += total_sell\n",
    "                    try:\n",
    "                        invest = (\n",
    "                            (real_movement[i] - real_movement[states_buy[-1]])\n",
    "                            / real_movement[states_buy[-1]]\n",
    "                        ) * 100\n",
    "                    except:\n",
    "                        invest = 0\n",
    "                    print(\n",
    "                        'Date: %s day %d, sell %d units at price %f, investment %f %%, total balance %f,'\n",
    "                        % (df.Date[i], i, sell_units, total_sell, invest, initial_money)\n",
    "                    )\n",
    "\n",
    "                current_decision = 0\n",
    "                states_sell.append(i)\n",
    "        current_val = real_movement[i]\n",
    "    invest = ((initial_money - starting_money) / starting_money) * 100\n",
    "    total_gains = initial_money - starting_money\n",
    "    return states_buy, states_sell, total_gains, invest"
   ]
  },
  {
   "cell_type": "code",
   "execution_count": 8,
   "metadata": {},
   "outputs": [
    {
     "name": "stdout",
     "output_type": "stream",
     "text": [
      "Date: 2021-04-15 00:00:00 day 0: buy 1000 units at price 745.800000, total balance 254.200000\n",
      "Date: 2021-05-07 00:00:00 day 16, sell 1000 units at price 655.100000, investment -12.161437 %, total balance 909.300000,\n",
      "Date: 2021-05-20 00:00:00 day 25: buy 1000 units at price 617.400000, total balance 291.900000\n",
      "Date: 2021-06-04 00:00:00 day 35, sell 1000 units at price 670.100000, investment 8.535795 %, total balance 962.000000,\n",
      "Date: 2021-06-22 00:00:00 day 47: buy 1000 units at price 668.800000, total balance 293.200000\n",
      "Date: 2021-07-12 00:00:00 day 60, sell 1000 units at price 594.500000, investment -11.109450 %, total balance 887.700000,\n",
      "Date: 2021-07-22 00:00:00 day 68: buy 1000 units at price 488.500000, total balance 399.200000\n",
      "Date: 2021-08-09 00:00:00 day 80, sell 1000 units at price 482.500000, investment -1.228250 %, total balance 881.700000,\n",
      "Date: 2021-08-17 00:00:00 day 86: buy 1000 units at price 373.200000, total balance 508.500000\n",
      "Date: 2021-08-25 00:00:00 day 92, sell 1000 units at price 410.000000, investment 9.860665 %, total balance 918.500000,\n",
      "Date: 2021-09-22 00:00:00 day 111: buy 629 units at price 918.340000, total balance 0.160000\n",
      "Date: 2021-09-29 00:00:00 day 116, sell 629 units at price 2151.180000, investment 134.246575 %, total balance 2151.340000,\n"
     ]
    }
   ],
   "source": [
    "states_buy, states_sell, total_gains, invest = buy_stock(df.Close, df, initial_state = 1, \n",
    "                                                         delay = 4, initial_money = 1000, max_buy=1000, max_sell=1000)"
   ]
  },
  {
   "cell_type": "code",
   "execution_count": 9,
   "metadata": {},
   "outputs": [
    {
     "data": {
      "image/png": "[encoded data removed]",
      "text/plain": [
       "<Figure size 1080x360 with 1 Axes>"
      ]
     },
     "metadata": {},
     "output_type": "display_data"
    }
   ],
   "source": [
    "close = df['Close']\n",
    "fig = plt.figure(figsize = (15,5))\n",
    "plt.plot(close, color='r', lw=2.)\n",
    "plt.plot(close, '^', markersize=10, color='m', label = 'buying signal', markevery = states_buy)\n",
    "plt.plot(close, 'v', markersize=10, color='k', label = 'selling signal', markevery = states_sell)\n",
    "plt.title('total gains %f, total investment %f%%'%(total_gains, invest))\n",
    "plt.legend()\n",
    "plt.show()"
   ]
  },
  {
   "cell_type": "code",
   "execution_count": null,
   "metadata": {},
   "outputs": [],
   "source": []
  }
 ],
 "metadata": {
  "kernelspec": {
   "display_name": "Python 3 (ipykernel)",
   "language": "python",
   "name": "python3"
  },
  "language_info": {
   "codemirror_mode": {
    "name": "ipython",
    "version": 3
   },
   "file_extension": ".py",
   "mimetype": "text/x-python",
   "name": "python",
   "nbconvert_exporter": "python",
   "pygments_lexer": "ipython3",
   "version": "3.8.12"
  }
 },
 "nbformat": 4,
 "nbformat_minor": 4
}
